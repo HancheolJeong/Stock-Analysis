{
 "cells": [
  {
   "cell_type": "markdown",
   "id": "05bced7f-6d56-42a1-afa5-a9a1c009a4f0",
   "metadata": {},
   "source": [
    "주식 정보 수집하는 방법\n",
    "먼저 설치를 해줍니다.\n",
    "pip install pykrx\n",
    "시간단위로 데이터를 얻을 수는 없습니다 최소단위는 Day입니다.\n",
    "당일자 데이터는 오후6시 이후에 제공됩니다.\n",
    "출처 : https://github.com/sharebook-kr/pykrx?tab=readme-ov-file#2113-%EC%A0%84%EC%B2%B4-%EC%A2%85%EB%AA%A9-%EC%8B%9C%EC%84%B8-%EC%A1%B0%ED%9A%8C"
   ]
  },
  {
   "cell_type": "code",
   "execution_count": 1,
   "id": "cd636e05-5333-4fd6-928b-8a51582a6df2",
   "metadata": {},
   "outputs": [],
   "source": [
    "from pykrx import stock\n",
    "from pykrx import bond"
   ]
  },
  {
   "cell_type": "markdown",
   "id": "5744dac4-e253-406c-8b17-d6a59d400660",
   "metadata": {},
   "source": [
    "날짜 기준 Ticker를 조회합니다.\n",
    "파라미터가 없으면 최근날짜 기준으로 티커목록을 가져옵니다.\n",
    "market 옵션으로 KOSPI KOSDAQ KONET 시장을 지정할 수 있습니다."
   ]
  },
  {
   "cell_type": "code",
   "execution_count": 2,
   "id": "771dc1bf-fbc0-48a1-8f7f-3db4d1ef1afd",
   "metadata": {},
   "outputs": [
    {
     "name": "stdout",
     "output_type": "stream",
     "text": [
      "['095570', '006840', '027410', '282330', '138930', '001460', '001465', '001040', '079160', '00104K']\n"
     ]
    }
   ],
   "source": [
    "tickers = stock.get_market_ticker_list(\"20190225\", market=\"KONET\")\n",
    "tickers = stock.get_market_ticker_list()\n",
    "tickers = stock.get_market_ticker_list(\"20240412\")\n",
    "print(tickers[:10])"
   ]
  },
  {
   "cell_type": "markdown",
   "id": "9eebb232-30f6-4cca-9c16-7e3587201865",
   "metadata": {},
   "source": [
    "stock.get_market_ticker_name(ticker)\n",
    "티커에서 종목이름을 가져옵니다."
   ]
  },
  {
   "cell_type": "code",
   "execution_count": 3,
   "id": "13614aab-97a1-4e76-befa-0668a3fd0268",
   "metadata": {},
   "outputs": [
    {
     "name": "stdout",
     "output_type": "stream",
     "text": [
      "3S\n",
      "APS\n",
      "AP시스템\n",
      "AP위성\n",
      "CJ ENM\n"
     ]
    }
   ],
   "source": [
    "for index, ticker in enumerate(stock.get_market_ticker_list(\"20190225\", market=\"KOSDAQ\")):\n",
    "    if index == 5:  # 5번 반복 후 반복문을 종료\n",
    "        break\n",
    "    종목 = stock.get_market_ticker_name(ticker)\n",
    "    print(종목)"
   ]
  },
  {
   "cell_type": "markdown",
   "id": "c1dfd970-94fe-433e-8054-3917822e43f9",
   "metadata": {},
   "source": [
    "일자별 OHLCV 조회\n",
    "함수에서 시작일/종료일/티커를 받고 DF로 반환"
   ]
  },
  {
   "cell_type": "code",
   "execution_count": 4,
   "id": "b40c904d-fe0f-4b4f-9d4a-abe0c6e30986",
   "metadata": {},
   "outputs": [
    {
     "name": "stdout",
     "output_type": "stream",
     "text": [
      "               시가     고가     저가     종가       거래량       등락률\n",
      "날짜                                                        \n",
      "2022-07-20  61800  62100  60500  60500  16782238 -0.656814\n",
      "2022-07-21  61100  61900  60700  61800  12291374  2.148760\n",
      "2022-07-22  61800  62200  61200  61300  10261310 -0.809061\n",
      "2022-07-25  60900  61900  60800  61100   9193681 -0.326264\n",
      "2022-07-26  60800  61900  60800  61700   6597211  0.981997\n"
     ]
    }
   ],
   "source": [
    "df = stock.get_market_ohlcv(\"20220720\", \"20220810\", \"005930\")\n",
    "print(df.head(5))"
   ]
  },
  {
   "cell_type": "markdown",
   "id": "15d2a8ca-a91f-46af-ad63-ace00140f4d7",
   "metadata": {},
   "source": [
    "모든 종목의 시세롤 가져옵니다.\n",
    "df = stock.get_market_ohlcv(\"20200831\", market=\"KOSPI\")\r\n",
    "df = stock.get_market_ohlcv(\"20200831\", market=\"KOSDAQ\")\r\n",
    "df = stock.get_market_ohlcv(\"20200831\", market=\"KONEX\n",
    "특정 시장을 지정해서 종목시세를 조회할 수 있습니다.\")"
   ]
  },
  {
   "cell_type": "code",
   "execution_count": 5,
   "id": "b381022f-1bf4-4a10-9f46-056668e8f269",
   "metadata": {},
   "outputs": [
    {
     "name": "stdout",
     "output_type": "stream",
     "text": [
      "            시가      고가      저가      종가     거래량        거래대금   등락률\n",
      "티커                                                              \n",
      "095570    4630    4630    4530    4600  299805  1371505175 -0.76\n",
      "006840   16800   16800   16250   16300    3463    56650620 -0.43\n",
      "027410    3575    3615    3560    3580   53170   190383300  0.14\n",
      "282330  145900  147100  143200  146100   64600  9411713800  0.90\n",
      "138930    7000    7020    6980    6980  469662  3285274464 -0.29\n"
     ]
    }
   ],
   "source": [
    "df = stock.get_market_ohlcv(\"20240122\")\n",
    "print(df.head(5))"
   ]
  },
  {
   "cell_type": "markdown",
   "id": "7cac4661-ca13-420d-a5f1-eec7b3f99a8e",
   "metadata": {},
   "source": [
    "종목별 BPS PER PBR EPS DIV DPS를 조회\n",
    "df = get_market_fundamental(\"20210104\", market=\"KOSDAQ\") 두번째 파라미터에 특정값을 넣고 조회할수 있습니다."
   ]
  },
  {
   "cell_type": "code",
   "execution_count": 6,
   "id": "38d83c55-6273-4cdf-9f44-79a9c92dd121",
   "metadata": {},
   "outputs": [
    {
     "name": "stdout",
     "output_type": "stream",
     "text": [
      "          BPS    PER   PBR    EPS   DIV   DPS\n",
      "티커                                           \n",
      "095570   8076  25.62  0.64    201  5.24   270\n",
      "006840  41948   0.00  0.41      0  1.17   200\n",
      "027410  16528  15.59  0.23    247  2.86   110\n",
      "282330  55724  12.06  2.42  11203  3.03  4100\n",
      "138930  30468   2.92  0.23   2404  8.92   625\n"
     ]
    }
   ],
   "source": [
    "df = stock.get_market_fundamental(\"20240102\")\n",
    "print(df.head(5))"
   ]
  },
  {
   "cell_type": "markdown",
   "id": "9c987b25-786f-488b-b44a-f2cd440d28ee",
   "metadata": {},
   "source": [
    "일자별 BPS PER PBR EPS DIV DPS 조회하는 법\n",
    "시작일 종료일 티커를 넣고 조회합니다."
   ]
  },
  {
   "cell_type": "code",
   "execution_count": 7,
   "id": "29131594-8a40-4dc5-b7d0-a25b3c41d747",
   "metadata": {},
   "outputs": [
    {
     "name": "stdout",
     "output_type": "stream",
     "text": [
      "              BPS    PER   PBR   EPS   DIV   DPS\n",
      "날짜                                              \n",
      "2021-01-04  37528  26.22  2.21  3166  1.71  1416\n",
      "2021-01-05  37528  26.50  2.24  3166  1.69  1416\n",
      "2021-01-06  37528  25.96  2.19  3166  1.72  1416\n",
      "2021-01-07  37528  26.18  2.21  3166  1.71  1416\n",
      "2021-01-08  37528  28.05  2.37  3166  1.59  1416\n"
     ]
    }
   ],
   "source": [
    "df = stock.get_market_fundamental(\"20210104\", \"20210108\", \"005930\")\n",
    "print(df.head(5))"
   ]
  },
  {
   "cell_type": "markdown",
   "id": "e226eca5-f37a-41b3-8836-95d35aab399d",
   "metadata": {},
   "source": [
    "일자별 거래대금 데이터를 가져옵니다.\n",
    "df = stock.get_market_trading_value_by_date(\"20210115\", \"20210122\", \"005930\", on='매도')\n",
    "df = stock.get_market_trading_value_by_date(\"20210115\", \"20210122\", \"005930\", on='매수')\n",
    "다음과 같이 매수와 매도로 나누어서 데이터를 가져올 수 있습니다."
   ]
  },
  {
   "cell_type": "code",
   "execution_count": 8,
   "id": "f9374962-08c5-4dcd-8465-0404a93916f0",
   "metadata": {},
   "outputs": [
    {
     "name": "stdout",
     "output_type": "stream",
     "text": [
      "                    기관합계         기타법인            개인         외국인합계  전체\n",
      "날짜                                                                   \n",
      "2021-01-15 -440769209300  25442287800  661609085600 -246282164100   0\n",
      "2021-01-18   42323535000  22682344800   14829121700  -79835001500   0\n",
      "2021-01-19   95523053500  -3250422500 -173484213300   81211582300   0\n",
      "2021-01-20 -364476214000  22980632900  430115581000  -88619999900   0\n",
      "2021-01-21  -60637506300 -27880854000  250285510000 -161767149700   0\n"
     ]
    }
   ],
   "source": [
    "df = stock.get_market_trading_value_by_date(\"20210115\", \"20210122\", \"005930\")\n",
    "print(df.head(5))"
   ]
  },
  {
   "cell_type": "markdown",
   "id": "8d33c188-e265-42f2-81cd-46111db5f61d",
   "metadata": {},
   "source": [
    "일자별 상세한 거래대금 데이터를 가져옵니다."
   ]
  },
  {
   "cell_type": "code",
   "execution_count": 9,
   "id": "4d5e6251-8b8c-4fdd-aca4-28dd96ce0d53",
   "metadata": {},
   "outputs": [
    {
     "name": "stdout",
     "output_type": "stream",
     "text": [
      "               금융투자      보험      투신      사모    은행   기타금융      연기금    기타법인  \\\n",
      "날짜                                                                          \n",
      "2021-01-15 -2645672 -209095 -391022  -44350  9332 -21845 -1703463  288832   \n",
      "2021-01-18  1403935 -219138  -99528    2260  3062  -1177  -583745  262604   \n",
      "2021-01-19  3346610   11571  -29730  136307  8209  22850 -2356559  -34023   \n",
      "2021-01-20 -2937997 -181633  -10377  -11928  -777  28359 -1043566  262408   \n",
      "2021-01-21  1216795 -331425 -180515  120603  -200   -447 -1536910 -321732   \n",
      "\n",
      "                 개인      외국인  기타외국인  전체  \n",
      "날짜                                       \n",
      "2021-01-15  7485785 -2787267  18765   0  \n",
      "2021-01-18   151228  -911353  -8148   0  \n",
      "2021-01-19 -2044543   943412  -4104   0  \n",
      "2021-01-20  4917655 -1037442  15298   0  \n",
      "2021-01-21  2890389 -1870645  14087   0  \n"
     ]
    }
   ],
   "source": [
    "df = stock.get_market_trading_volume_by_date(\"20210115\", \"20210122\", \"005930\", etf=True, etn=True, elw=True, detail=True)\n",
    "print(df.head(5))"
   ]
  },
  {
   "cell_type": "markdown",
   "id": "957b04d8-5b80-4d07-b304-1cc79eac4721",
   "metadata": {},
   "source": [
    "종목별 시가총액 거래량 거래대금 상장주식수 조회"
   ]
  },
  {
   "cell_type": "code",
   "execution_count": 10,
   "id": "a7b7275b-29f6-4d96-80bf-dafa18953001",
   "metadata": {},
   "outputs": [
    {
     "name": "stdout",
     "output_type": "stream",
     "text": [
      "            종가             시가총액       거래량          거래대금       상장주식수\n",
      "티커                                                                 \n",
      "005930   51900  309831714345000  18541624  970494909540  5969782550\n",
      "000660   84300   61370599369500   3397112  287640892200   728002365\n",
      "207940  815000   53924475000000    163339  133594217000    66165000\n",
      "035420  269500   44268984952500   1196267  325381436500   164263395\n",
      "068270  316000   42640845660000    918369  291688043500   134939385\n"
     ]
    }
   ],
   "source": [
    "df = stock.get_market_cap(\"20200625\")\n",
    "print(df.head(5))"
   ]
  },
  {
   "cell_type": "markdown",
   "id": "0cf91a72-764b-4b73-96ab-d84426b38b04",
   "metadata": {},
   "source": [
    "일자별 시가총액 거래량 거래대금 상장주식수 조회"
   ]
  },
  {
   "cell_type": "code",
   "execution_count": 11,
   "id": "5114f5ee-06d0-4b50-8899-4c81ad3b323f",
   "metadata": {},
   "outputs": [
    {
     "name": "stdout",
     "output_type": "stream",
     "text": [
      "                       시가총액       거래량          거래대금       상장주식수\n",
      "날짜                                                             \n",
      "2019-01-02  231329073812500   7847664  304682623050  5969782550\n",
      "2019-01-03  224463823880000  12471493  472966535350  5969782550\n",
      "2019-01-04  223568356497500  14108958  525403005097  5969782550\n",
      "2019-01-07  231329073812500  12748997  490833164150  5969782550\n",
      "2019-01-08  227448715155000  12756554  491578269750  5969782550\n"
     ]
    }
   ],
   "source": [
    "df = stock.get_market_cap(\"20190101\", \"20190131\", \"005930\")\n",
    "print(df.head(5))"
   ]
  },
  {
   "cell_type": "markdown",
   "id": "eae7550c-e3d7-4541-9020-2df89c612df2",
   "metadata": {},
   "source": [
    "종목별 외인소진률 조회"
   ]
  },
  {
   "cell_type": "code",
   "execution_count": 12,
   "id": "0f828e17-8c6d-41aa-921e-3697f9d7778a",
   "metadata": {},
   "outputs": [
    {
     "name": "stdout",
     "output_type": "stream",
     "text": [
      "            상장주식수      보유수량        지분율       한도수량      한도소진률\n",
      "티커                                                          \n",
      "000020   27931470   1400966   5.019531   27931470   5.019531\n",
      "000040   91661018  43190959  47.125000   91661018  47.125000\n",
      "000050   27415270    773627   2.820312   27415270   2.820312\n",
      "000060  113680000  12968255  11.406250  113680000  11.406250\n",
      "000070    8564271    661240   7.718750    8564271   7.718750\n"
     ]
    }
   ],
   "source": [
    "df = stock.get_exhaustion_rates_of_foreign_investment('20200703')\n",
    "print(df.head(5))"
   ]
  },
  {
   "cell_type": "markdown",
   "id": "87f5d722-3f35-4aa6-bf11-e437b98e8b7e",
   "metadata": {},
   "source": [
    "코스피 인덱스 티커명 조회\n",
    "\n",
    "for ticker in stock.get_index_ticker_list(market='KOSDAQ'):\n",
    "    print(ticker, stock.get_index_ticker_name(ticker))\n",
    "코스닥 조회하는 법"
   ]
  },
  {
   "cell_type": "code",
   "execution_count": 13,
   "id": "18807838-f01f-4988-bf45-c3575e7f1575",
   "metadata": {},
   "outputs": [
    {
     "name": "stdout",
     "output_type": "stream",
     "text": [
      "1001 코스피\n",
      "1002 코스피 대형주\n",
      "1003 코스피 중형주\n",
      "1004 코스피 소형주\n",
      "1005 음식료품\n"
     ]
    }
   ],
   "source": [
    "for index, ticker in enumerate(stock.get_index_ticker_list()):\n",
    "    if index == 5:\n",
    "        break\n",
    "    print(ticker, stock.get_index_ticker_name(ticker))"
   ]
  },
  {
   "cell_type": "markdown",
   "id": "78a153cf-6d8e-4d59-a79f-5597a088dbbd",
   "metadata": {},
   "source": [
    "인덱스 OHLCV 조회"
   ]
  },
  {
   "cell_type": "code",
   "execution_count": 14,
   "id": "4ad5ae76-147d-4664-b030-2abc29b6abc5",
   "metadata": {},
   "outputs": [
    {
     "name": "stdout",
     "output_type": "stream",
     "text": [
      "코스피 200         시가      고가      저가      종가       거래량           거래대금  \\\n",
      "날짜                                                                    \n",
      "2019-01-02  263.35  263.77  257.47  258.23  69949709  3186640984476   \n",
      "2019-01-03  258.19  258.70  255.35  255.77  90520685  3971916869836   \n",
      "2019-01-04  255.62  258.12  254.55  257.89  91200480  4173872799949   \n",
      "2019-01-07  261.11  263.13  260.76  261.57  92321424  3960240416630   \n",
      "2019-01-08  261.29  262.43  259.39  259.65  86910036  3358745354328   \n",
      "\n",
      "코스피 200               상장시가총액  \n",
      "날짜                            \n",
      "2019-01-02  1147017732129830  \n",
      "2019-01-03  1138232565242240  \n",
      "2019-01-04  1148634935078745  \n",
      "2019-01-07  1163850599086150  \n",
      "2019-01-08  1156011691962865  \n"
     ]
    }
   ],
   "source": [
    "df = stock.get_index_ohlcv(\"20190101\", \"20190228\", \"1028\")\n",
    "print(df.head(5))"
   ]
  },
  {
   "cell_type": "markdown",
   "id": "24ccb4fa-31c7-4df6-a4f3-1440ce128930",
   "metadata": {},
   "source": [
    "인덱스 상장정보 조회"
   ]
  },
  {
   "cell_type": "code",
   "execution_count": 15,
   "id": "e4fe3de0-90a0-4d29-b7fa-a5f6344339c7",
   "metadata": {},
   "outputs": [
    {
     "name": "stdout",
     "output_type": "stream",
     "text": [
      "                    기준시점        발표시점    기준지수  종목수\n",
      "지수명                                              \n",
      "코스피           1980.01.04  1983.01.04   100.0  835\n",
      "코스피 200       1990.01.03  1994.06.15   100.0  200\n",
      "코스피 100       2000.01.04  2000.03.02  1000.0  100\n",
      "코스피 50        2000.01.04  2000.03.02  1000.0   50\n",
      "코스피 200 중소형주  2010.01.04  2015.07.13  1000.0  100\n"
     ]
    }
   ],
   "source": [
    "df = stock.get_index_listing_date(\"KOSPI\")\n",
    "print(df.head(5))"
   ]
  },
  {
   "cell_type": "markdown",
   "id": "6fb0c0e9-5321-4cf3-b8b4-021900ff167a",
   "metadata": {},
   "source": [
    "인덱스 fundamental 조회"
   ]
  },
  {
   "cell_type": "code",
   "execution_count": 16,
   "id": "89327a98-1812-4e56-a6e7-c58f8f5e8bab",
   "metadata": {},
   "outputs": [
    {
     "name": "stdout",
     "output_type": "stream",
     "text": [
      "                   종가   등락률        PER  선행PER   PBR  배당수익률\n",
      "지수명                                                       \n",
      "코스피           2681.82 -0.93  19.709999   0.00  0.98   1.80\n",
      "코스피 200        367.25 -0.94  19.049999  10.71  0.99   1.92\n",
      "코스피 100       2767.25 -1.01  20.370001  11.03  1.01   1.91\n",
      "코스피 50        2541.63 -1.11  20.450001  11.22  1.02   1.94\n",
      "코스피 200 중소형주  1247.80 -0.32  11.050000   0.00  0.72   2.20\n"
     ]
    }
   ],
   "source": [
    "df = stock.get_index_fundamental(\"20240412\")\n",
    "print(df.head(5))"
   ]
  },
  {
   "cell_type": "markdown",
   "id": "5b881108-9383-43a9-9928-0f499a602b86",
   "metadata": {},
   "source": [
    "종목별 공매도 현황"
   ]
  },
  {
   "cell_type": "code",
   "execution_count": 17,
   "id": "f9ec7f91-f090-4ccf-8283-e93a3d65e535",
   "metadata": {},
   "outputs": [
    {
     "name": "stdout",
     "output_type": "stream",
     "text": [
      "          공매도       매수    비중\n",
      "티커                          \n",
      "095570     32   180458  0.02\n",
      "006840     79   386257  0.02\n",
      "027410  18502  8453962  0.22\n",
      "282330     96    82986  0.12\n",
      "138930   1889  1181748  0.16\n"
     ]
    }
   ],
   "source": [
    "df = stock.get_shorting_volume_by_ticker(\"20210125\")\n",
    "print(df.head(5))"
   ]
  },
  {
   "cell_type": "markdown",
   "id": "9fb341f3-ebdc-4637-b2af-ccdc809e739c",
   "metadata": {},
   "source": [
    "증권의 세부 종류를 리스트로 가져옴\n",
    "주식, ETF, ETN, ELW, 신주인수권증서및증권, 수익증권"
   ]
  },
  {
   "cell_type": "code",
   "execution_count": 18,
   "id": "aba02035-763d-4e54-a0f4-8bf40ba053dd",
   "metadata": {},
   "outputs": [
    {
     "name": "stdout",
     "output_type": "stream",
     "text": [
      "          공매도       매수   비중\n",
      "티커                         \n",
      "00004217    0  1952134  0.0\n",
      "00532219    0    46440  0.0\n",
      "21433218    0      236  0.0\n",
      "00121218    0    68305  0.0\n",
      "00064217    0      820  0.0\n"
     ]
    }
   ],
   "source": [
    "df = stock.get_shorting_volume_by_ticker(\"20210125\", include=[\"신주인수권증서및증권\"])\n",
    "print(df.head(5))"
   ]
  },
  {
   "cell_type": "markdown",
   "id": "ca9d76f1-40f4-46a8-85b0-6f42ddcbaa4d",
   "metadata": {},
   "source": [
    "투자자별 공매도 거래 현황 조회\n",
    "df = stock.get_shorting_investor_volume_by_date(\"20190401\", \"20190405\", \"KOSDAQ\")\n",
    "코스닥 조회가능"
   ]
  },
  {
   "cell_type": "code",
   "execution_count": 19,
   "id": "7b2df354-9cf1-4ebb-bbef-bd3638c9afea",
   "metadata": {},
   "outputs": [
    {
     "name": "stdout",
     "output_type": "stream",
     "text": [
      "                 기관      개인      외국인    기타        합계\n",
      "날짜                                                  \n",
      "2019-04-01  3402249  133996  5778673   200   9315118\n",
      "2019-04-02  2883434  139801  5580922     0   8604157\n",
      "2019-04-03  3589910  127075  6375748     0  10092733\n",
      "2019-04-04  3207221  119193  5621951  1405   8949770\n",
      "2019-04-05  3163018  134396  6909015  1754  10208183\n"
     ]
    }
   ],
   "source": [
    "df = stock.get_shorting_investor_volume_by_date(\"20190401\", \"20190405\", \"KOSPI\")\n",
    "print(df.head(5))"
   ]
  },
  {
   "cell_type": "markdown",
   "id": "8d118dc7-21f7-4de7-af6f-ca1fa46cd7d9",
   "metadata": {},
   "source": [
    "ETF티커 조회"
   ]
  },
  {
   "cell_type": "code",
   "execution_count": 20,
   "id": "ea21ef97-974b-463a-ae12-92e664ab166d",
   "metadata": {},
   "outputs": [
    {
     "name": "stdout",
     "output_type": "stream",
     "text": [
      "['159800', '285000', '287300', '287310', '290080', '284980', '287320', '287330', '252400', '252420']\n"
     ]
    }
   ],
   "source": [
    "tickers = stock.get_etf_ticker_list(\"20200717\")\n",
    "print(tickers[:10])"
   ]
  },
  {
   "cell_type": "markdown",
   "id": "f27eabeb-631c-412c-91c3-f72320d539f2",
   "metadata": {},
   "source": [
    "ETF 티커명 조회"
   ]
  },
  {
   "cell_type": "code",
   "execution_count": 21,
   "id": "52f39da3-4b41-463e-a4ed-6c434c875a2c",
   "metadata": {},
   "outputs": [
    {
     "name": "stdout",
     "output_type": "stream",
     "text": [
      "마이티 코스피100\n",
      "KBSTAR 200TR\n",
      "KBSTAR 200IT\n",
      "KBSTAR 200건설\n",
      "KBSTAR 200경기소비재\n"
     ]
    }
   ],
   "source": [
    "tickers = stock.get_etf_ticker_list(\"20201014\")\n",
    "for index, ticker in enumerate(tickers):\n",
    "    if index == 5:\n",
    "        break\n",
    "    print(stock.get_etf_ticker_name(ticker))"
   ]
  },
  {
   "cell_type": "markdown",
   "id": "399ff7af-2aa5-4776-bb3f-dd011e174b46",
   "metadata": {},
   "source": [
    "ETF의 OHLCV 일자별로 출력"
   ]
  },
  {
   "cell_type": "code",
   "execution_count": 23,
   "id": "82d4e021-7065-4021-9260-520644da67e7",
   "metadata": {},
   "outputs": [
    {
     "name": "stdout",
     "output_type": "stream",
     "text": [
      "                 NAV     시가     고가     저가     종가    거래량       거래대금     기초지수\n",
      "날짜                                                                         \n",
      "2021-01-04  16744.50  16880  16880  16150  16715  37171  617143235  3735.91\n",
      "2021-01-05  17066.32  16675  17135  16480  17135  23066  387759820  3808.06\n",
      "2021-01-06  16894.60  17365  17415  16725  16885   8886  150735265  3769.30\n",
      "2021-01-07  17474.18  17100  17725  17025  17470   5243   91405400  3899.20\n",
      "2021-01-08  18123.19  17615  18110  17470  18025   5478   97386055  4045.72\n"
     ]
    }
   ],
   "source": [
    "df = stock.get_etf_ohlcv_by_date(\"20210104\", \"20210108\", \"285000\")\n",
    "print(df.head(5))"
   ]
  },
  {
   "cell_type": "markdown",
   "id": "87d76eba-2ffc-4c58-8099-82f48d886eca",
   "metadata": {},
   "source": [
    "ETF 전종목 OHLCV 조회"
   ]
  },
  {
   "cell_type": "code",
   "execution_count": 24,
   "id": "7705fac7-9929-4045-b74d-e006f0e30e33",
   "metadata": {},
   "outputs": [
    {
     "name": "stdout",
     "output_type": "stream",
     "text": [
      "             NAV     시가     고가     저가     종가    거래량        거래대금     기초지수\n",
      "티커                                                                      \n",
      "152100  41887.33  41705  42145  41585  41835  59317  2479398465   408.53\n",
      "295820  10969.41  10780  10945  10780  10915     69      750210  2364.03\n",
      "253150  46182.13  45640  46700  45540  46145   1561    71730335  2043.75\n",
      "253160   4344.07   4400   4400   4295   4340  58943   256679440  2043.75\n",
      "278420   9145.45   9055   9150   9055   9105   1164    10598375     0.00\n"
     ]
    }
   ],
   "source": [
    "df = stock.get_etf_ohlcv_by_ticker(\"20210325\")\n",
    "print(df.head(5))"
   ]
  },
  {
   "cell_type": "markdown",
   "id": "3158b482-a09a-4345-89c7-5e4a073d8d4c",
   "metadata": {},
   "source": [
    "ETN 티커 조회"
   ]
  },
  {
   "cell_type": "code",
   "execution_count": 25,
   "id": "9889f0c6-166e-4357-a393-cbd52b32afac",
   "metadata": {},
   "outputs": [
    {
     "name": "stdout",
     "output_type": "stream",
     "text": [
      "['580048', '580049', '580030', '580028', '580036', '580035', '580037', '580050', '580010', '580034']\n"
     ]
    }
   ],
   "source": [
    "tickers = stock.get_etn_ticker_list(\"20231215\")\n",
    "print(tickers[:10])"
   ]
  },
  {
   "cell_type": "markdown",
   "id": "761296aa-6727-43f6-ad25-3f1ed8cfcd87",
   "metadata": {},
   "source": [
    "ETN 티커명 조회"
   ]
  },
  {
   "cell_type": "code",
   "execution_count": 26,
   "id": "50968a1b-b1e4-4bb8-b6b0-0fce1bb7429c",
   "metadata": {},
   "outputs": [
    {
     "name": "stdout",
     "output_type": "stream",
     "text": [
      "KB CSI 300 ETN\n",
      "KB CSI 500 ETN\n",
      "KB KOSDAQ 150 선물 ETN\n",
      "KB KOSPI 200 선물 ETN\n",
      "KB S&P 레버리지 WTI원유 선물 ETN(H)\n"
     ]
    }
   ],
   "source": [
    "tickers = stock.get_etn_ticker_list(\"20231215\")\n",
    "for index, ticker in enumerate(tickers):\n",
    "    if index == 5: \n",
    "        break\n",
    "    print(stock.get_etn_ticker_name(ticker))"
   ]
  },
  {
   "cell_type": "markdown",
   "id": "60ee0952-c853-4f6a-8e83-25c9d751fd7c",
   "metadata": {},
   "source": [
    "ELW 티커 조회"
   ]
  },
  {
   "cell_type": "code",
   "execution_count": 27,
   "id": "0464de4e-82b9-4393-870f-634b04f792a9",
   "metadata": {},
   "outputs": [
    {
     "name": "stdout",
     "output_type": "stream",
     "text": [
      "['58J438', '58J537', '58J538', '58J539', '58J540', '58J544', '58J578', '58J579', '58J592', '58J670']\n"
     ]
    }
   ],
   "source": [
    "tickers = stock.get_elw_ticker_list(\"20240306\")\n",
    "print(tickers[:10])"
   ]
  },
  {
   "cell_type": "markdown",
   "id": "5c18ef5b-541b-46cd-8267-25ce346a754f",
   "metadata": {},
   "source": [
    "ELW 티커명 조회"
   ]
  },
  {
   "cell_type": "code",
   "execution_count": 28,
   "id": "0564e7bb-8e74-49fa-a3e5-9d6bf2568e81",
   "metadata": {},
   "outputs": [
    {
     "name": "stdout",
     "output_type": "stream",
     "text": [
      "KBJ438삼성전자풋\n",
      "KBJ537KOSPI200풋\n",
      "KBJ538KOSPI200풋\n",
      "KBJ539KOSPI200풋\n",
      "KBJ540삼성전자콜\n"
     ]
    }
   ],
   "source": [
    "tickers = stock.get_elw_ticker_list(\"20240306\")\n",
    "for index, ticker in enumerate(tickers):\n",
    "    if index == 5:\n",
    "        break\n",
    "    print(stock.get_elw_ticker_name(ticker))"
   ]
  },
  {
   "cell_type": "markdown",
   "id": "ef97f7b0-2972-4960-b489-5bc7ffc679f2",
   "metadata": {},
   "source": [
    "채권수익률"
   ]
  },
  {
   "cell_type": "code",
   "execution_count": 29,
   "id": "61aa0b90-7821-46b0-81da-553f574e4d24",
   "metadata": {},
   "outputs": [
    {
     "name": "stdout",
     "output_type": "stream",
     "text": [
      "                     수익률     대비\n",
      "채권종류                           \n",
      "국고채 1년             1.743 -0.008\n",
      "국고채 3년             1.786 -0.015\n",
      "국고채 5년             1.853 -0.023\n",
      "국고채 10년            1.965 -0.030\n",
      "국고채 20년            2.039 -0.022\n",
      "국고채 30년            2.034 -0.021\n",
      "국민주택 1종 5년         1.935 -0.023\n",
      "회사채 AA-(무보증 3년)    2.234 -0.015\n",
      "회사채 BBB- (무보증 3년)  8.318 -0.014\n",
      "CD(91일)            1.860  0.000\n"
     ]
    }
   ],
   "source": [
    "df = bond.get_otc_treasury_yields(\"20190208\")\n",
    "print(df)"
   ]
  },
  {
   "cell_type": "markdown",
   "id": "a2a03112-f060-42bb-96a4-3e65425adb60",
   "metadata": {},
   "source": [
    "공시정보 조회"
   ]
  },
  {
   "cell_type": "code",
   "execution_count": 30,
   "id": "004e6e7e-29d2-4a2f-8579-d461f6bacb72",
   "metadata": {},
   "outputs": [
    {
     "data": {
      "text/html": [
       "<div>\n",
       "<style scoped>\n",
       "    .dataframe tbody tr th:only-of-type {\n",
       "        vertical-align: middle;\n",
       "    }\n",
       "\n",
       "    .dataframe tbody tr th {\n",
       "        vertical-align: top;\n",
       "    }\n",
       "\n",
       "    .dataframe thead th {\n",
       "        text-align: right;\n",
       "    }\n",
       "</style>\n",
       "<table border=\"1\" class=\"dataframe\">\n",
       "  <thead>\n",
       "    <tr style=\"text-align: right;\">\n",
       "      <th></th>\n",
       "      <th>상호변경전</th>\n",
       "      <th>상호변경후</th>\n",
       "      <th>업종변경전</th>\n",
       "      <th>업종변경후</th>\n",
       "      <th>액면변경전</th>\n",
       "      <th>액면변경후</th>\n",
       "      <th>대표이사변경전</th>\n",
       "      <th>대표이사변경후</th>\n",
       "    </tr>\n",
       "    <tr>\n",
       "      <th>날짜</th>\n",
       "      <th></th>\n",
       "      <th></th>\n",
       "      <th></th>\n",
       "      <th></th>\n",
       "      <th></th>\n",
       "      <th></th>\n",
       "      <th></th>\n",
       "      <th></th>\n",
       "    </tr>\n",
       "  </thead>\n",
       "  <tbody>\n",
       "    <tr>\n",
       "      <th>1975-06-11</th>\n",
       "      <td>-</td>\n",
       "      <td>삼성전자공업주</td>\n",
       "      <td>-</td>\n",
       "      <td>-</td>\n",
       "      <td>0</td>\n",
       "      <td>0</td>\n",
       "      <td>-</td>\n",
       "      <td>-</td>\n",
       "    </tr>\n",
       "    <tr>\n",
       "      <th>1979-03-13</th>\n",
       "      <td>-</td>\n",
       "      <td>-</td>\n",
       "      <td>-</td>\n",
       "      <td>-</td>\n",
       "      <td>1000</td>\n",
       "      <td>500</td>\n",
       "      <td>-</td>\n",
       "      <td>-</td>\n",
       "    </tr>\n",
       "    <tr>\n",
       "      <th>1984-03-23</th>\n",
       "      <td>삼성전자공업주</td>\n",
       "      <td>삼성전자주</td>\n",
       "      <td>-</td>\n",
       "      <td>-</td>\n",
       "      <td>0</td>\n",
       "      <td>0</td>\n",
       "      <td>-</td>\n",
       "      <td>-</td>\n",
       "    </tr>\n",
       "    <tr>\n",
       "      <th>1987-01-05</th>\n",
       "      <td>-</td>\n",
       "      <td>-</td>\n",
       "      <td>-</td>\n",
       "      <td>-</td>\n",
       "      <td>500</td>\n",
       "      <td>5000</td>\n",
       "      <td>-</td>\n",
       "      <td>-</td>\n",
       "    </tr>\n",
       "    <tr>\n",
       "      <th>2000-01-20</th>\n",
       "      <td>-</td>\n",
       "      <td>-</td>\n",
       "      <td>-</td>\n",
       "      <td>-</td>\n",
       "      <td>0</td>\n",
       "      <td>0</td>\n",
       "      <td>이건희윤종용이윤우이학수진대제문병대</td>\n",
       "      <td>이건희윤종용이윤우이학수진대제최도석이상현임형규</td>\n",
       "    </tr>\n",
       "  </tbody>\n",
       "</table>\n",
       "</div>"
      ],
      "text/plain": [
       "              상호변경전    상호변경후 업종변경전 업종변경후  액면변경전 액면변경후             대표이사변경전  \\\n",
       "날짜                                                                          \n",
       "1975-06-11        -  삼성전자공업주     -     -      0     0                   -   \n",
       "1979-03-13        -        -     -     -   1000   500                   -   \n",
       "1984-03-23  삼성전자공업주    삼성전자주     -     -      0     0                   -   \n",
       "1987-01-05        -        -     -     -    500  5000                   -   \n",
       "2000-01-20        -        -     -     -      0     0  이건희윤종용이윤우이학수진대제문병대   \n",
       "\n",
       "                             대표이사변경후  \n",
       "날짜                                    \n",
       "1975-06-11                         -  \n",
       "1979-03-13                         -  \n",
       "1984-03-23                         -  \n",
       "1987-01-05                         -  \n",
       "2000-01-20  이건희윤종용이윤우이학수진대제최도석이상현임형규  "
      ]
     },
     "execution_count": 30,
     "metadata": {},
     "output_type": "execute_result"
    }
   ],
   "source": [
    "df = stock.get_stock_major_changes(\"005930\")\n",
    "df.head(5)"
   ]
  }
 ],
 "metadata": {
  "kernelspec": {
   "display_name": "Python 3 (ipykernel)",
   "language": "python",
   "name": "python3"
  },
  "language_info": {
   "codemirror_mode": {
    "name": "ipython",
    "version": 3
   },
   "file_extension": ".py",
   "mimetype": "text/x-python",
   "name": "python",
   "nbconvert_exporter": "python",
   "pygments_lexer": "ipython3",
   "version": "3.8.18"
  }
 },
 "nbformat": 4,
 "nbformat_minor": 5
}
